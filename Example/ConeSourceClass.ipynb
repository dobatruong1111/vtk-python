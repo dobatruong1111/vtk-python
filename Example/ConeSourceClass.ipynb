{
 "cells": [
  {
   "cell_type": "code",
   "execution_count": 25,
   "metadata": {},
   "outputs": [],
   "source": [
    "# First access the VTK module by importing them\n",
    "import vtkmodules.vtkInteractionStyle\n",
    "\n",
    "import vtkmodules.vtkRenderingOpenGL2\n",
    "\n",
    "from vtkmodules.vtkCommonColor import vtkNamedColors\n",
    "\n",
    "from vtkmodules.vtkFiltersSources import (\n",
    "    vtkConeSource, # non\n",
    "    vtkCubeSource, # khoi hop\n",
    "    vtkPlaneSource, # mxn array\n",
    "    vtkSphereSource, # cau\n",
    "    vtkCylinderSource # lang tru\n",
    ")\n",
    "\n",
    "from vtkmodules.vtkRenderingCore import (\n",
    "    vtkActor,\n",
    "    vtkPolyDataMapper,\n",
    "    vtkRenderWindow,\n",
    "    vtkRenderWindowInteractor,\n",
    "    vtkRenderer\n",
    ")"
   ]
  },
  {
   "cell_type": "code",
   "execution_count": 26,
   "metadata": {},
   "outputs": [],
   "source": [
    "def main():\n",
    "    # Next we create an instance of vtkNamedColors and\n",
    "    # We will use this to select colors for the object and background\n",
    "    colors = vtkNamedColors()\n",
    "    bkg = map(lambda x: x/255.0, [139, 138, 250, 255])\n",
    "    colors.SetColor(\"bkgColor\",*bkg)\n",
    "    # print(colors)\n",
    "\n",
    "    # We create an instance of vtkplaneSource and set some of its properties\n",
    "    # The instance of vtkplaneSource \"plane\" (nón) is part of a visualization pipeline (it is a source process object)\n",
    "    # it produces data (output type is vtkPolyData) which other filters may process\n",
    "    plane = vtkCubeSource()\n",
    "\n",
    "    # We terminate the pipeline with a mapper process object\n",
    "    # (Intermediate (trung gian) filters such as vtkShrinkPolyData could be inserted in between the source and the mapper)\n",
    "    # We create an instance of vtkPolyDataMapper to map the polygonal data into graphics primitives\n",
    "    # We connect the output of the plane source to the input of this mapper\n",
    "    planeMapper = vtkPolyDataMapper()\n",
    "    planeMapper.SetInputConnection(plane.GetOutputPort())\n",
    "\n",
    "    # Create an actor to represent (đại diện) the plane\n",
    "    # An actor also refers (đề cập) to properties via (thông qua) a vtkProperty instance,\n",
    "    # and includes an internal transformation matrix\n",
    "    # We set this actor's mapper to be planeMapper which we created above\n",
    "    planeActor = vtkActor()\n",
    "    planeActor.SetMapper(planeMapper)\n",
    "    planeActor.GetProperty().SetColor(colors.GetColor3d('tomato'))\n",
    "\n",
    "    # Create the Renderer and assign actors to it.\n",
    "    # A renderer is like a viewport (chế độ xem)\n",
    "    # It is part or all of a window on the screen and it is responsible for drawing the actors it has\n",
    "    # We also set the backgound color here\n",
    "    ren1 = vtkRenderer()\n",
    "    ren1.AddActor(planeActor)\n",
    "    ren1.SetBackground(colors.GetColor3d('bkgColor'))\n",
    "\n",
    "    # we create the render window which will show up on the screen\n",
    "    # we put our renderer into the render window using AddRenderer\n",
    "    # we also set the size to be 300 pixels by 300\n",
    "    renWin = vtkRenderWindow()\n",
    "    renWin.AddRenderer(ren1)\n",
    "    renWin.SetSize(300,300)\n",
    "    renWin.SetWindowName('Tutorial_Step1')\n",
    "\n",
    "    iren = vtkRenderWindowInteractor()\n",
    "    iren.SetRenderWindow(renWin)\n",
    "    iren.Initialize()\n",
    "    iren.Start()\n",
    "\n",
    "    # we loop over 360 degrees and render the plane each time\n",
    "    # for i in range(0,360*2):\n",
    "        # render the image\n",
    "        # renWin.Render()\n",
    "        # rotate the active camera by one degree\n",
    "        # ren1.GetActiveCamera().Azimuth(1)"
   ]
  },
  {
   "cell_type": "code",
   "execution_count": 27,
   "metadata": {},
   "outputs": [],
   "source": [
    "if __name__ == '__main__':\n",
    "    main()"
   ]
  }
 ],
 "metadata": {
  "kernelspec": {
   "display_name": "Python 3.9.2 64-bit",
   "language": "python",
   "name": "python3"
  },
  "language_info": {
   "codemirror_mode": {
    "name": "ipython",
    "version": 3
   },
   "file_extension": ".py",
   "mimetype": "text/x-python",
   "name": "python",
   "nbconvert_exporter": "python",
   "pygments_lexer": "ipython3",
   "version": "3.9.2"
  },
  "orig_nbformat": 4,
  "vscode": {
   "interpreter": {
    "hash": "879c0dd0ec722265e9c823e699e7031860e7ee0c5d980443cd56b4427689617b"
   }
  }
 },
 "nbformat": 4,
 "nbformat_minor": 2
}
